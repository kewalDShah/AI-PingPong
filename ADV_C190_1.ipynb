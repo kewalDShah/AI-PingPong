{
  "nbformat": 4,
  "nbformat_minor": 0,
  "metadata": {
    "colab": {
      "name": "ADV_C190.1.ipynb",
      "provenance": [],
      "collapsed_sections": [],
      "include_colab_link": true
    },
    "kernelspec": {
      "name": "python3",
      "display_name": "Python 3"
    }
  },
  "cells": [
    {
      "cell_type": "markdown",
      "metadata": {
        "id": "view-in-github",
        "colab_type": "text"
      },
      "source": [
        "<a href=\"https://colab.research.google.com/github/kewalDShah/AI-PingPong/blob/main/ADV_C190_1.ipynb\" target=\"_parent\"><img src=\"https://colab.research.google.com/assets/colab-badge.svg\" alt=\"Open In Colab\"/></a>"
      ]
    },
    {
      "cell_type": "code",
      "metadata": {
        "id": "Luy2BfDe1VVu"
      },
      "source": [
        "#Additional-Activity-1\n",
        "#The \"Launch_Date.csv\" file is sorted in descending order\n",
        "#So read the CSV and get the name and date of the Satellites which was launched recently\n",
        "\n",
        "#predefine code\n",
        "import pandas as pd\n",
        "from matplotlib import pyplot as plt\n",
        "df = pd.read_csv('https://shravantihable.github.io/AA/Launch_Date.csv')\n",
        "df\n",
        "#predefine code end\n",
        "\n",
        "#from the dataframe df retrive the 1st row using the head() function and store it in variable recent_satellites.\n",
        "\n",
        "\n",
        "#inside the print() function write the string as \"Recently On : \"\n",
        "\n",
        "\n",
        "#inside the print() function access the values of column 'Launch Date' which is present in dataset recent_satellites, by writing the 'Launch Date' inside square brackets.\n",
        "\n",
        "#inside the print() function access the values of column 'Name' which is present in dataset recent_satellites, by writing the 'Name' inside square brackets.\n",
        "\n",
        "#inside the print() function write the string \"Satellites had launched\" to indicate that this satalite had launched recently.\n"
      ],
      "execution_count": null,
      "outputs": []
    }
  ]
}